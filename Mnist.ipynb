{
 "cells": [
  {
   "cell_type": "code",
   "execution_count": 1,
   "id": "84503272",
   "metadata": {},
   "outputs": [],
   "source": [
    "#!pip install tensorflow"
   ]
  },
  {
   "cell_type": "code",
   "execution_count": 1,
   "id": "ef55050a",
   "metadata": {},
   "outputs": [],
   "source": [
    "# Import necessary libraries\n",
    "import numpy as np\n",
    "import tensorflow as tf\n",
    "from tensorflow.keras import layers, models\n",
    "import matplotlib.pyplot as plt\n"
   ]
  },
  {
   "cell_type": "code",
   "execution_count": 37,
   "id": "e9f3ffb3",
   "metadata": {},
   "outputs": [],
   "source": [
    "# Load the MNIST dataset\n",
    "(train_images, train_labels), (test_images, test_labels) = tf.keras.datasets.mnist.load_data()\n",
    "\n",
    "# Normalize pixel values to be between 0 and 1\n",
    "train_images = train_images / 255.0\n",
    "test_images = test_images / 255.0\n",
    "\n",
    "# Reshape images to include the channel dimension (28x28x1)\n",
    "train_images = train_images.reshape((train_images.shape[0], 28, 28, 1))\n",
    "test_images = test_images.reshape((test_images.shape[0], 28, 28, 1))\n"
   ]
  },
  {
   "cell_type": "code",
   "execution_count": 38,
   "id": "90de5737",
   "metadata": {},
   "outputs": [],
   "source": [
    "# Define the CNN model\n",
    "model = models.Sequential([\n",
    "    layers.Conv2D(32, (3, 3), activation='relu', input_shape=(28, 28, 1)),\n",
    "    layers.MaxPooling2D((2, 2)),\n",
    "    layers.Conv2D(64, (3, 3), activation='relu'),\n",
    "    layers.MaxPooling2D((2, 2)),\n",
    "    layers.Conv2D(64, (3, 3), activation='relu'),\n",
    "    layers.Flatten(),\n",
    "    layers.Dense(64, activation='relu'),\n",
    "    layers.Dense(10, activation='softmax')\n",
    "])\n"
   ]
  },
  {
   "cell_type": "code",
   "execution_count": 39,
   "id": "26517f04",
   "metadata": {},
   "outputs": [],
   "source": [
    "# Compile the model\n",
    "model.compile(optimizer='adam',\n",
    "              loss='sparse_categorical_crossentropy',\n",
    "              metrics=['accuracy'])\n",
    "\n"
   ]
  },
  {
   "cell_type": "code",
   "execution_count": 40,
   "id": "b0eeba1d",
   "metadata": {},
   "outputs": [
    {
     "name": "stdout",
     "output_type": "stream",
     "text": [
      "Epoch 1/5\n",
      "750/750 [==============================] - 50s 65ms/step - loss: 0.2138 - accuracy: 0.9333 - val_loss: 0.0771 - val_accuracy: 0.9751\n",
      "Epoch 2/5\n",
      "750/750 [==============================] - 47s 63ms/step - loss: 0.0575 - accuracy: 0.9818 - val_loss: 0.0536 - val_accuracy: 0.9835\n",
      "Epoch 3/5\n",
      "750/750 [==============================] - 50s 67ms/step - loss: 0.0405 - accuracy: 0.9871 - val_loss: 0.0411 - val_accuracy: 0.9875\n",
      "Epoch 4/5\n",
      "750/750 [==============================] - 49s 65ms/step - loss: 0.0326 - accuracy: 0.9900 - val_loss: 0.0397 - val_accuracy: 0.9887\n",
      "Epoch 5/5\n",
      "750/750 [==============================] - 50s 66ms/step - loss: 0.0264 - accuracy: 0.9911 - val_loss: 0.0390 - val_accuracy: 0.9887\n"
     ]
    }
   ],
   "source": [
    "# Train the model\n",
    "history = model.fit(train_images, train_labels, epochs=5, \n",
    "                    validation_split=0.2, \n",
    "                    batch_size=64)\n"
   ]
  },
  {
   "cell_type": "code",
   "execution_count": 41,
   "id": "f860ce5f",
   "metadata": {},
   "outputs": [
    {
     "name": "stdout",
     "output_type": "stream",
     "text": [
      "313/313 - 3s - loss: 0.0326 - accuracy: 0.9902 - 3s/epoch - 10ms/step\n",
      "Test accuracy: 0.9901999831199646\n"
     ]
    }
   ],
   "source": [
    "# Evaluate the model on the test data\n",
    "test_loss, test_acc = model.evaluate(test_images, test_labels, verbose=2)\n",
    "print(f\"Test accuracy: {test_acc}\")\n"
   ]
  },
  {
   "cell_type": "code",
   "execution_count": 42,
   "id": "49905d45",
   "metadata": {},
   "outputs": [
    {
     "data": {
      "image/png": "[encoded data removed]",
      "text/plain": [
       "<Figure size 432x288 with 1 Axes>"
      ]
     },
     "metadata": {
      "needs_background": "light"
     },
     "output_type": "display_data"
    }
   ],
   "source": [
    "# Plot training and validation accuracy\n",
    "plt.plot(history.history['accuracy'], label='accuracy')\n",
    "plt.plot(history.history['val_accuracy'], label = 'val_accuracy')\n",
    "plt.xlabel('Epoch')\n",
    "plt.ylabel('Accuracy')\n",
    "plt.ylim([0, 1])\n",
    "plt.legend(loc='lower right')\n",
    "plt.show()\n"
   ]
  },
  {
   "cell_type": "code",
   "execution_count": 45,
   "id": "e0fad100",
   "metadata": {},
   "outputs": [
    {
     "name": "stdout",
     "output_type": "stream",
     "text": [
      "313/313 [==============================] - 3s 10ms/step\n",
      "Predicted class for the first test image: 7\n",
      "True class for the first test image: 7\n"
     ]
    }
   ],
   "source": [
    "predictions = model.predict(test_images)\n",
    "print(f\"Predicted class for the first test image: {np.argmax(predictions[0])}\")\n",
    "print(f\"True class for the first test image: {test_labels[0]}\")"
   ]
  },
  {
   "cell_type": "code",
   "execution_count": 56,
   "id": "838a15a8",
   "metadata": {},
   "outputs": [
    {
     "data": {
      "image/png": "[encoded data removed]",
      "text/plain": [
       "<Figure size 432x216 with 2 Axes>"
      ]
     },
     "metadata": {
      "needs_background": "light"
     },
     "output_type": "display_data"
    }
   ],
   "source": [
    "# Function to display an image and its predicted and true labels\n",
    "def display_image_with_prediction(index):\n",
    "    plt.figure(figsize=(6, 3))\n",
    "    \n",
    "    # Display the image\n",
    "    plt.subplot(1, 2, 1)\n",
    "    plt.imshow(test_images[index].reshape(28, 28), cmap=plt.cm.binary)\n",
    "    plt.title(f\"True Label: {test_labels[index]}\")\n",
    "    \n",
    "    # Display the bar chart of probabilities\n",
    "    plt.subplot(1, 2, 2)\n",
    "    plt.bar(range(10), predictions[index])\n",
    "    plt.title(f\"Predicted Label: {np.argmax(predictions[index])}\")\n",
    "    plt.xticks(range(10))\n",
    "    \n",
    "    plt.show()\n",
    "\n",
    "# Display the first image with its predicted and true labels\n",
    "display_image_with_prediction(9999)"
   ]
  },
  {
   "cell_type": "code",
   "execution_count": null,
   "id": "96c5941a",
   "metadata": {},
   "outputs": [],
   "source": []
  },
  {
   "cell_type": "code",
   "execution_count": null,
   "id": "524c45df",
   "metadata": {},
   "outputs": [],
   "source": []
  },
  {
   "cell_type": "code",
   "execution_count": null,
   "id": "fc3e79d4",
   "metadata": {},
   "outputs": [],
   "source": []
  },
  {
   "cell_type": "code",
   "execution_count": null,
   "id": "b96f1ba6",
   "metadata": {},
   "outputs": [],
   "source": []
  },
  {
   "cell_type": "code",
   "execution_count": null,
   "id": "e1d71c4b",
   "metadata": {},
   "outputs": [],
   "source": []
  },
  {
   "cell_type": "code",
   "execution_count": null,
   "id": "a01eea7a",
   "metadata": {},
   "outputs": [],
   "source": []
  },
  {
   "cell_type": "code",
   "execution_count": null,
   "id": "e4fc82a8",
   "metadata": {},
   "outputs": [],
   "source": []
  },
  {
   "cell_type": "code",
   "execution_count": null,
   "id": "6fa368ed",
   "metadata": {},
   "outputs": [],
   "source": []
  },
  {
   "cell_type": "code",
   "execution_count": null,
   "id": "f9acaada",
   "metadata": {},
   "outputs": [],
   "source": []
  },
  {
   "cell_type": "code",
   "execution_count": 58,
   "id": "909d4d71",
   "metadata": {},
   "outputs": [
    {
     "name": "stdout",
     "output_type": "stream",
     "text": [
      "Epoch 1/10\n",
      "625/625 [==============================] - 2065s 3s/step - loss: 1.7744 - accuracy: 0.3320 - val_loss: 1.5654 - val_accuracy: 0.4217\n",
      "Epoch 2/10\n",
      "625/625 [==============================] - 56s 89ms/step - loss: 1.4964 - accuracy: 0.4506 - val_loss: 1.4077 - val_accuracy: 0.4871\n",
      "Epoch 3/10\n",
      "625/625 [==============================] - 72s 115ms/step - loss: 1.4188 - accuracy: 0.4821 - val_loss: 1.3973 - val_accuracy: 0.4977\n",
      "Epoch 4/10\n",
      "625/625 [==============================] - 77s 123ms/step - loss: 1.3177 - accuracy: 0.5207 - val_loss: 1.3069 - val_accuracy: 0.5272\n",
      "Epoch 5/10\n",
      "625/625 [==============================] - 76s 121ms/step - loss: 1.2339 - accuracy: 0.5541 - val_loss: 1.2251 - val_accuracy: 0.5578\n",
      "Epoch 6/10\n",
      "625/625 [==============================] - 76s 122ms/step - loss: 1.1643 - accuracy: 0.5810 - val_loss: 1.1712 - val_accuracy: 0.5768\n",
      "Epoch 7/10\n",
      "625/625 [==============================] - 79s 127ms/step - loss: 1.1065 - accuracy: 0.6003 - val_loss: 1.1638 - val_accuracy: 0.5883\n",
      "Epoch 8/10\n",
      "625/625 [==============================] - 85s 137ms/step - loss: 1.0582 - accuracy: 0.6224 - val_loss: 1.1662 - val_accuracy: 0.5859\n",
      "Epoch 9/10\n",
      "625/625 [==============================] - 78s 125ms/step - loss: 1.0186 - accuracy: 0.6353 - val_loss: 1.1308 - val_accuracy: 0.6025\n",
      "Epoch 10/10\n",
      "625/625 [==============================] - 75s 120ms/step - loss: 0.9836 - accuracy: 0.6475 - val_loss: 1.0670 - val_accuracy: 0.6171\n",
      "313/313 - 7s - loss: 1.0792 - accuracy: 0.6192 - 7s/epoch - 22ms/step\n",
      "Test accuracy: 0.6191999912261963\n"
     ]
    },
    {
     "data": {
      "image/png": "[encoded data removed]",
      "text/plain": [
       "<Figure size 432x288 with 1 Axes>"
      ]
     },
     "metadata": {
      "needs_background": "light"
     },
     "output_type": "display_data"
    },
    {
     "name": "stdout",
     "output_type": "stream",
     "text": [
      "1/1 [==============================] - 0s 338ms/step\n"
     ]
    },
    {
     "data": {
      "image/png": "[encoded data removed]",
      "text/plain": [
       "<Figure size 432x216 with 2 Axes>"
      ]
     },
     "metadata": {
      "needs_background": "light"
     },
     "output_type": "display_data"
    }
   ],
   "source": [
    "import numpy as np\n",
    "import tensorflow as tf\n",
    "from tensorflow.keras import layers, models\n",
    "import matplotlib.pyplot as plt\n",
    "\n",
    "# Load and preprocess data\n",
    "(train_images, train_labels), (test_images, test_labels) = tf.keras.datasets.cifar10.load_data()\n",
    "\n",
    "# Normalize pixel values to be between 0 and 1\n",
    "train_images = train_images / 255.0\n",
    "test_images = test_images / 255.0\n",
    "\n",
    "# Convert labels to one-hot encoding\n",
    "train_labels = tf.keras.utils.to_categorical(train_labels, 10)\n",
    "test_labels = tf.keras.utils.to_categorical(test_labels, 10)\n",
    "\n",
    "# Build the model\n",
    "model = models.Sequential()\n",
    "\n",
    "# Add convolutional layers to extract features\n",
    "model.add(layers.Conv2D(32, (3, 3), activation='relu', input_shape=(32, 32, 3)))\n",
    "model.add(layers.MaxPooling2D((2, 2)))\n",
    "model.add(layers.Conv2D(64, (3, 3), activation='relu'))\n",
    "model.add(layers.MaxPooling2D((2, 2)))\n",
    "model.add(layers.Conv2D(64, (3, 3), activation='relu'))\n",
    "\n",
    "# Flatten the output of the convolutional layers\n",
    "model.add(layers.Flatten())\n",
    "\n",
    "# Add an RNN layer\n",
    "model.add(layers.Reshape((64, -1)))\n",
    "model.add(layers.SimpleRNN(128))\n",
    "\n",
    "# Add a fully connected layer and output layer\n",
    "model.add(layers.Dense(128, activation='relu'))\n",
    "model.add(layers.Dense(10, activation='softmax'))\n",
    "\n",
    "# Compile the model\n",
    "model.compile(optimizer='adam',\n",
    "              loss='categorical_crossentropy',\n",
    "              metrics=['accuracy'])\n",
    "\n",
    "# Train the model\n",
    "history = model.fit(train_images, train_labels, epochs=10, \n",
    "                    validation_split=0.2, \n",
    "                    batch_size=64)\n",
    "\n",
    "# Evaluate the model\n",
    "test_loss, test_acc = model.evaluate(test_images, test_labels, verbose=2)\n",
    "print(f\"Test accuracy: {test_acc}\")\n",
    "\n",
    "# Plot training and validation accuracy\n",
    "plt.plot(history.history['accuracy'], label='accuracy')\n",
    "plt.plot(history.history['val_accuracy'], label='val_accuracy')\n",
    "plt.xlabel('Epoch')\n",
    "plt.ylabel('Accuracy')\n",
    "plt.ylim([0, 1])\n",
    "plt.legend(loc='lower right')\n",
    "plt.show()\n",
    "\n",
    "# Function to display an image and its predicted and true labels\n",
    "def display_image_with_prediction(index):\n",
    "    plt.figure(figsize=(6, 3))\n",
    "\n",
    "    # Display the image\n",
    "    plt.subplot(1, 2, 1)\n",
    "    plt.imshow(test_images[index])\n",
    "    plt.title(f\"True Label: {np.argmax(test_labels[index])}\")\n",
    "\n",
    "    # Display the bar chart of probabilities\n",
    "    plt.subplot(1, 2, 2)\n",
    "    prediction = model.predict(np.expand_dims(test_images[index], axis=0))\n",
    "    plt.bar(range(10), prediction[0])\n",
    "    plt.title(f\"Predicted Label: {np.argmax(prediction[0])}\")\n",
    "    plt.xticks(range(10))\n",
    "\n",
    "    plt.show()\n",
    "\n",
    "# Display the first image with its predicted and true labels\n",
    "display_image_with_prediction(0)\n"
   ]
  },
  {
   "cell_type": "code",
   "execution_count": 63,
   "id": "6ddfe00b",
   "metadata": {},
   "outputs": [
    {
     "name": "stdout",
     "output_type": "stream",
     "text": [
      "1/1 [==============================] - 0s 41ms/step\n"
     ]
    },
    {
     "data": {
      "image/png": "[encoded data removed]",
      "text/plain": [
       "<Figure size 432x216 with 2 Axes>"
      ]
     },
     "metadata": {
      "needs_background": "light"
     },
     "output_type": "display_data"
    }
   ],
   "source": [
    "display_image_with_prediction(9999)\n"
   ]
  },
  {
   "cell_type": "code",
   "execution_count": 61,
   "id": "8a567bc9",
   "metadata": {},
   "outputs": [
    {
     "data": {
      "text/plain": [
       "(10000, 32, 32, 3)"
      ]
     },
     "execution_count": 61,
     "metadata": {},
     "output_type": "execute_result"
    }
   ],
   "source": [
    "test_images.shape"
   ]
  },
  {
   "cell_type": "code",
   "execution_count": null,
   "id": "9204fb72",
   "metadata": {},
   "outputs": [],
   "source": []
  }
 ],
 "metadata": {
  "kernelspec": {
   "display_name": "Python 3",
   "language": "python",
   "name": "python3"
  },
  "language_info": {
   "codemirror_mode": {
    "name": "ipython",
    "version": 3
   },
   "file_extension": ".py",
   "mimetype": "text/x-python",
   "name": "python",
   "nbconvert_exporter": "python",
   "pygments_lexer": "ipython3",
   "version": "3.8.8"
  }
 },
 "nbformat": 4,
 "nbformat_minor": 5
}
